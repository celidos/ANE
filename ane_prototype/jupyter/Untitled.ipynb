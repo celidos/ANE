{
 "cells": [
  {
   "cell_type": "code",
   "execution_count": 14,
   "metadata": {
    "collapsed": true
   },
   "outputs": [],
   "source": [
    "import re"
   ]
  },
  {
   "cell_type": "code",
   "execution_count": 15,
   "metadata": {
    "collapsed": true
   },
   "outputs": [],
   "source": [
    "s1 = r'Чай черный Ramuk, индийский с ароматом бергамота, 20 пакетиков по 1,5г'"
   ]
  },
  {
   "cell_type": "code",
   "execution_count": 22,
   "metadata": {
    "collapsed": true
   },
   "outputs": [],
   "source": [
    "wp = re.compile(r'(?P<first>\\d{1,4}(?:[,.]\\d{,3})?)'+\\\n",
    "                                       r'(?P<unit1>[гГgG]|гр|грамм|Грамм|мл|Мл|МЛ|шт|штуки|пак|пакетиков)')#?\\.?\\s*(?:[xXхХ\\*×]|по)\\s*')#+\\\n",
    "#                                        r'(?P<second>\\d{1,4}(?:[,.]\\d{,3})?)\\s*'+\\\n",
    "#                                        r'(?P<unit2>[гГgG]|гр|грамм|Грамм|мл|Мл|МЛ|шт|штуки|пак)?\\.?\\s*$') # iks and kha"
   ]
  },
  {
   "cell_type": "code",
   "execution_count": 23,
   "metadata": {
    "collapsed": true
   },
   "outputs": [],
   "source": [
    "wp1 = re.compile(r'\\s+(?P<amount>\\d{1,4}(?:[,.]\\d{,3})?)'+\\\n",
    "                                       r'\\s*(?P<unit>[гГgG]|гр|грамм|Грамм|кг|Кг|КГ'+\\\n",
    "                                       r'|kg|Kg|KG|мл|Мл|МЛ|[лЛlL]|шт|Шт|штук|Штук).?\\s*(?:упаковка|пак|пакет)?'+\\\n",
    "                                       r'(?:в ассортименте|ассорт|в ассорт)?$')  # group 1"
   ]
  },
  {
   "cell_type": "code",
   "execution_count": 24,
   "metadata": {},
   "outputs": [
    {
     "name": "stdout",
     "output_type": "stream",
     "text": [
      "<_sre.SRE_Match object; span=(66, 70), match='1,5г'>\n"
     ]
    }
   ],
   "source": [
    "print(wp.search(s1))"
   ]
  },
  {
   "cell_type": "code",
   "execution_count": 13,
   "metadata": {},
   "outputs": [
    {
     "name": "stdout",
     "output_type": "stream",
     "text": [
      "<_sre.SRE_Match object; span=(65, 70), match=' 1,5г'>\n"
     ]
    }
   ],
   "source": [
    "print(wp1.search(s1))"
   ]
  },
  {
   "cell_type": "code",
   "execution_count": 18,
   "metadata": {},
   "outputs": [
    {
     "data": {
      "text/plain": [
       "1259.98"
      ]
     },
     "execution_count": 18,
     "metadata": {},
     "output_type": "execute_result"
    }
   ],
   "source": [
    "round(1259.979999999, 2)"
   ]
  },
  {
   "cell_type": "code",
   "execution_count": 19,
   "metadata": {},
   "outputs": [
    {
     "data": {
      "text/plain": [
       "[1, 2, 3, 4, 5]"
      ]
     },
     "execution_count": 19,
     "metadata": {},
     "output_type": "execute_result"
    }
   ],
   "source": [
    "[1, 2, 3] + [4, 5]"
   ]
  },
  {
   "cell_type": "markdown",
   "metadata": {
    "collapsed": true
   },
   "source": [
    "# urllib experiments"
   ]
  },
  {
   "cell_type": "code",
   "execution_count": 34,
   "metadata": {},
   "outputs": [],
   "source": [
    "import urllib\n",
    "import requests\n",
    "\n",
    "url = 'http://www.gks.ru/dbscripts/cbsd/DBInet.cgi'"
   ]
  },
  {
   "cell_type": "code",
   "execution_count": 35,
   "metadata": {},
   "outputs": [],
   "source": [
    "# Prepare the data\n",
    "values = {\n",
    "    'rdLayoutType': 'Au',\n",
    "    '_Pokazateli': 'on',\n",
    "    '_sengoroda': 'on',\n",
    "    '_grtov': 'on',\n",
    "    '_god': 'on',\n",
    "    '_period': 'on',\n",
    "    'a_Pokazateli': '1',\n",
    "    'a_sengoroda': '2',\n",
    "    'a_period': '3',\n",
    "    'Qry': 'Pokazateli:1921003;sengoroda:45000000;grtov:111,113,116,114,411,501,701,801,1001,1111,1102,1106,1201,1501,1601,1701,1711,1903,2002,2004,2101,2201,2203,2301,2303,2306,2401,2501,2601,2603,2605,2621,2701;god:2018;period:5;',\n",
    "    'QryGm': 'Pokazateli_z:1;sengoroda_z:2;period_z:3;god_s:1;grtov_b:1;',\n",
    "    'QryFootNotes': ';',\n",
    "    'YearsList': '2013;2014;2015;2016;2017;2018;'\n",
    "}\n",
    "data = urllib.parse.urlencode(values)"
   ]
  },
  {
   "cell_type": "code",
   "execution_count": 36,
   "metadata": {},
   "outputs": [],
   "source": [
    "r = requests.post(url, data=data)"
   ]
  },
  {
   "cell_type": "code",
   "execution_count": 37,
   "metadata": {},
   "outputs": [
    {
     "data": {
      "text/plain": [
       "'cp1251'"
      ]
     },
     "execution_count": 37,
     "metadata": {},
     "output_type": "execute_result"
    }
   ],
   "source": [
    "r.encoding = 'cp1251'\n",
    "r.encoding"
   ]
  },
  {
   "cell_type": "code",
   "execution_count": 39,
   "metadata": {},
   "outputs": [
    {
     "name": "stdout",
     "output_type": "stream",
     "text": [
      "<HTML>\r\n",
      "<HEAD>\r\n",
      "<META content=\"text/html; charset=windows-1251\" http-equiv=Content-Type>\r\n",
      "<TITLE>Результат запроса</TITLE>\r\n",
      "<style type=text/css>@import url(/db/1CDBSS.css);</style>\r\n",
      "\r\n",
      "<script type=\"text/javascript\">\r\n",
      "\r\n",
      "  var _gaq = _gaq || [];\r\n",
      "  _gaq.push(['_setAccount', 'UA-31240410-1']);\r\n",
      "  _gaq.push(['_trackPageview']);\r\n",
      "\r\n",
      "  (function() {\r\n",
      "    var ga = document.createElement('script'); ga.type = 'text/javascript'; ga.async = true;\r\n",
      "    ga.src = ('https:' == document.location.protocol ? 'https://ssl' : 'http://www') + '.google-analytics.com/ga.js';\r\n",
      "    var s = document.getElementsByTagName('script')[0]; s.parentNode.insertBefore(ga, s);\r\n",
      "  })();\r\n",
      "\r\n",
      "</script>\r\n",
      "\r\n",
      "</HEAD><BODY  onLoad=\"focus();return(true);\">\r\n",
      "\r\n",
      "<p><img border=\"0\" src=\"/db/Banner_new.jpg\" width=\"800\" height=\"113\"></p>\r\n",
      "<div STYLE=\"font-family:Arial; color:darkblue; font-size:12; font-weight:bold; position:absolute; top:60; left:120;\">\r\n",
      "ФЕДЕРАЛЬНАЯ СЛУЖБА ГОСУДАРСТВЕННОЙ СТАТИСТИКИ</div>\r\n",
      "<div STYLE=\"font-family:Arial; color:darkblue; font-size:12; font-weight:bold; position:absolute; top:18; left:470;\">\r\n",
      "Центральная База Статистических Данных</div>\r\n",
      "<div align=\"left\">\r\n",
      "<SCRIPT language=\"JavaScript\">\r\n",
      "<!--\r\n",
      " \r\n",
      "function TestPeriod()\r\n",
      "{\r\n",
      "  i1 = document.forms.ToolBarForm.YearFrom.selectedIndex;\r\n",
      "  i2 = document.forms.ToolBarForm.YearTo.selectedIndex;\r\n",
      "  i3 = document.forms.ToolBarForm.Format.selectedIndex;\r\n",
      "  if (document.forms.ToolBarForm.YearFrom.options[i1].text>document.forms.ToolBarForm.YearTo.options[i2].text)\r\n",
      "  {\r\n",
      "    alert(\"Начало периода больше даты окончания. Исправьте даты.\" );\r\n",
      "  }\r\n",
      "  else\r\n",
      "  {\r\n",
      "    document.forms.DateFilter.YearFrom.value = document.forms.ToolBarForm.YearFrom.options[i1].text;\r\n",
      "    document.forms.DateFilter.YearTo.value = document.forms.ToolBarForm.YearTo.options[i2].text;\r\n",
      "    document.forms.DateFilter.Format.value = document.forms.ToolBarForm.Format.options[i3].text;\r\n",
      "    document.forms.DateFilter.tbl.click();\r\n",
      "  }\r\n",
      "}\r\n",
      " \r\n",
      "function TestFormat()\r\n",
      "{\r\n",
      "  if (document.forms.ToolBarForm.Format.selectedIndex > 0)\r\n",
      "  {\r\n",
      "  \tdocument.forms.ToolBarForm.showtbl0.disabled=false;\r\n",
      "  }\r\n",
      "  else\r\n",
      "  {\r\n",
      "    document.forms.ToolBarForm.showtbl0.disabled=true;\r\n",
      "  }\r\n",
      "}\r\n",
      " \r\n",
      "function ShowMetodol(KodPok)\r\n",
      "{\r\n",
      "  window.open(\"http://www.gks.ru/dbscripts/Metodol/cbsd_web/\" + KodPok + \".htm\",\"\",\"Scrollbars=1,Resizable=1,Width=500,Height=400\");\r\n",
      "}\r\n",
      " \r\n",
      "-->\r\n",
      "</SCRIPT>\r\n",
      "<FORM action=/dbscripts/cbsd/DBInet.cgi method=\"POST\" name=\"ToolBarForm\">\r\n",
      "<TABLE><TR>\r\n",
      "<TD><SPAN class=\"SelectFormat\">Выберите формат документа</SPAN></TD>\r\n",
      "<TD><SELECT name=\"Format\" size=\"1\" class=\"Select\" style=\"font-size:8pt;\" onchange=\"TestFormat()\">\r\n",
      "<OPTION>\r\n",
      "<OPTION>Excel\r\n",
      "<OPTION>CSV\r\n",
      "</SELECT></TD>\r\n",
      "<TD><INPUT type=\"button\" name=\"showtbl0\" disabled value=\"Выполнить\" style=\"font-size:8pt;\" onclick=\"TestPeriod();\"></TD>\r\n",
      "<TD>&nbsp;</TD>\r\n",
      "<TD><SPAN class=\"SelectFormat\">Период</SPAN></TD>\r\n",
      "<TD><SELECT name=\"YearFrom\" size=\"1\" class=\"Select\" style=\"font-size:8pt;\">\r\n",
      "<OPTION SELECTED>2013\r\n",
      "<OPTION>2014\r\n",
      "<OPTION>2015\r\n",
      "<OPTION>2016\r\n",
      "<OPTION>2017\r\n",
      "<OPTION>2018\r\n",
      "</SELECT></TD>\r\n",
      "<TD><SPAN class=\"SelectFormat\">по</SPAN></TD>\r\n",
      "<TD><SELECT name=\"YearTo\" size=\"1\" class=\"Select\" style=\"font-size:8pt;\">\r\n",
      "<OPTION SELECTED>2018\r\n",
      "<OPTION>2017\r\n",
      "<OPTION>2016\r\n",
      "<OPTION>2015\r\n",
      "<OPTION>2014\r\n",
      "<OPTION>2013\r\n",
      "</SELECT></TD>\r\n",
      "<TD><INPUT type=\"button\" name=\"showtbl\" value=\"Выполнить\" style=\"font-size:8pt;\" onclick=\"TestPeriod();\"></TD>\r\n",
      "<TD>&nbsp;</TD>\r\n",
      "<TD><INPUT type=\"button\" name=\"btnShowGraph\" value=\"Показать график \" style=\"font-size:8pt;\" onclick=\"document.forms.FormDiag.sbmtShowGraph.click()\"></TD>\r\n",
      "<TD>&nbsp;</TD>\r\n",
      "<TD><INPUT type=\"button\" name=\"btnShowMap\" value=\"Показать карту\" style=\"font-size:8pt;\" onclick=\"document.forms.FormMap.sbmtShowMap.click()\"></TD>\r\n",
      "</TR>\r\n",
      "<TR><td height=\"10\"></td></TR>\r\n",
      "</TABLE>\r\n",
      "</FORM>\r\n",
      "<TABLE  style=\"display:none\"><TR><TD>\r\n",
      "<FORM action=/dbscripts/cbsd/DBInet.cgi method=\"POST\" name=\"DateFilter\">\r\n",
      "<INPUT type=\"hidden\" name=\"Format\" value=\"\">\r\n",
      "<INPUT type=\"hidden\" name=\"YearTo\" value=\"\">\r\n",
      "<INPUT type=\"hidden\" name=\"YearFrom\" value=\"\">\r\n",
      "<INPUT type=\"hidden\" name=\"DiagSz\" value=\"800x600\">\r\n",
      "<INPUT type=\"hidden\" name=\"Qry\" value=\"Pokazateli:1921003;sengoroda:45000000;grtov:111,113,116,114,411,501,701,801,1001,1111,1102,1106,1201,1501,1601,1701,1711,1903,2002,2004,2101,2201,2203,2301,2303,2306,2401,2501,2601,2603,2605,2621,2701;god:2018;period:5;\">\r\n",
      "<INPUT type=\"hidden\" name=\"QryGm\" value=\"Pokazateli_z:1;sengoroda_z:2;period_z:3;god_s:1;grtov_b:1;\">\r\n",
      "<INPUT type=\"hidden\" name=\"QryFootNotes\" value=\";\">\r\n",
      "<INPUT type=\"hidden\" name=\"YearsList\" value=\"2013;2014;2015;2016;2017;2018;\">\r\n",
      "<INPUT type=\"submit\" style=\"visibility:hidden\" name=\"tbl\" value=\"Показать таблицу\" >\r\n",
      "</FORM>\r\n",
      "</TD>\r\n",
      "<TD>\r\n",
      "<FORM action=http://db.gks.ru/dbscripts/Cbsd/DG_Map/BuildGraph.aspx method=\"POST\" name=\"FormDiag\" target=\"_blank\">\r\n",
      "<INPUT type=\"hidden\" name=\"Format\" value=\"\">\r\n",
      "<INPUT type=\"hidden\" name=\"Qry\" value=\"Pokazateli:1921003;sengoroda:45000000;grtov:111,113,116,114,411,501,701,801,1001,1111,1102,1106,1201,1501,1601,1701,1711,1903,2002,2004,2101,2201,2203,2301,2303,2306,2401,2501,2601,2603,2605,2621,2701;god:2018;period:5;\">\r\n",
      "<INPUT type=\"hidden\" name=\"QryGm\" value=\"Pokazateli_z:1;sengoroda_z:2;period_z:3;god_s:1;grtov_b:1;\">\r\n",
      "<INPUT type=\"hidden\" name=\"YearsList\" value=\"2013;2014;2015;2016;2017;2018;\">\r\n",
      "<INPUT type=\"submit\" style=\"display:none\" name=\"sbmtShowGraph\" value=\"Показать график\" >\r\n",
      "</FORM>\r\n",
      "</TD>\r\n",
      "<TD>\r\n",
      "<FORM action=http://db2.gks.ru/gisdbdoklad/Map.aspx?DBInetKey=2 method=\"POST\" name=\"FormMap\" target=\"_blank\">\r\n",
      "<INPUT type=\"hidden\" name=\"Format\" value=\"\">\r\n",
      "<INPUT type=\"hidden\" name=\"Qry\" value=\"Pokazateli:1921003;sengoroda:45000000;grtov:111,113,116,114,411,501,701,801,1001,1111,1102,1106,1201,1501,1601,1701,1711,1903,2002,2004,2101,2201,2203,2301,2303,2306,2401,2501,2601,2603,2605,2621,2701;god:2018;period:5;\">\r\n",
      "<INPUT type=\"hidden\" name=\"QryGm\" value=\"Pokazateli_z:1;sengoroda_z:2;period_z:3;god_s:1;grtov_b:1;\">\r\n",
      "<INPUT type=\"hidden\" name=\"YearsList\" value=\"2013;2014;2015;2016;2017;2018;\">\r\n",
      "<INPUT type=\"hidden\" name=\"PokName\" value=\"Средние потребительские цены (тарифы) на товары и услуги по городам, рубль\">\r\n",
      "<INPUT type=\"submit\" style=\"display:none\" name=\"sbmtShowMap\" value=\"Показать карту\" >\r\n",
      "</FORM>\r\n",
      "</TD>\r\n",
      "</TR>\r\n",
      "</TABLE>\r\n",
      "</div>\r\n",
      "<div align=\"left\">\r\n",
      "  <font face=\"verdana\" size=6>\r\n",
      "  \r\n",
      "<TABLE class=OutTbl width=380 bordercolor=darkgray cellspacing=0 border=1>\r\n",
      "<CAPTION><div class=ZagTbl>Средние потребительские цены (тарифы) на товары и услуги по городам, рубль,<br>г.Москва,<br>май</div></CAPTION>\r\n",
      "<TR><TD class=TblShap width=79% rowspan=1 border=0></TD><TD class=TblShap colspan=0>2018</TD></TR>\r\n",
      "<TR><TD class=TblBok><p  class=bL0 align=left>Говядина (кроме бескостного мяса), кг</p></TD><TD align=right>382,33</TD></TR>\r\n",
      "<TR><TD class=TblBok><p  class=bL0 align=left>Свинина (кроме бескостного мяса), кг</p></TD><TD align=right>322,21</TD></TR>\r\n",
      "<TR><TD class=TblBok><p  class=bL0 align=left>Баранина (кроме бескостного мяса), кг</p></TD><TD align=right>441,14</TD></TR>\r\n",
      "<TR><TD class=TblBok><p  class=bL0 align=left>Куры охлажденные и мороженые, кг</p></TD><TD align=right>140,1</TD></TR>\r\n",
      "<TR><TD class=TblBok><p  class=bL0 align=left>Рыба мороженая неразделанная, кг</p></TD><TD align=right>243,52</TD></TR>\r\n",
      "<TR><TD class=TblBok><p  class=bL0 align=left>Сельдь соленая, кг</p></TD><TD align=right>264,22</TD></TR>\r\n",
      "<TR><TD class=TblBok><p  class=bL0 align=left>Масло сливочное, кг</p></TD><TD align=right>771,22</TD></TR>\r\n",
      "<TR><TD class=TblBok><p  class=bL0 align=left>Масло подсолнечное, кг</p></TD><TD align=right>118,27</TD></TR>\r\n",
      "<TR><TD class=TblBok><p  class=bL0 align=left>Маргарин, кг</p></TD><TD align=right>166,87</TD></TR>\r\n",
      "<TR><TD class=TblBok><p  class=bL0 align=left>Молоко питьевое цельное пастеризованное 2,5-3,2% жирности, л</p></TD><TD align=right>69,83</TD></TR>\r\n",
      "<TR><TD class=TblBok><p  class=bL0 align=left>Сметана, кг</p></TD><TD align=right>251,34</TD></TR>\r\n",
      "<TR><TD class=TblBok><p  class=bL0 align=left>Творог нежирный, кг</p></TD><TD align=right>316,54</TD></TR>\r\n",
      "<TR><TD class=TblBok><p  class=bL0 align=left>Сыры сычужные твердые и мягкие, кг</p></TD><TD align=right>646,38</TD></TR>\r\n",
      "<TR><TD class=TblBok><p  class=bL0 align=left>Яйца куриные, 10 шт.</p></TD><TD align=right>68,79</TD></TR>\r\n",
      "<TR><TD class=TblBok><p  class=bL0 align=left>Сахар-песок, кг</p></TD><TD align=right>40,07</TD></TR>\r\n",
      "<TR><TD class=TblBok><p  class=bL0 align=left>Печенье, кг</p></TD><TD align=right>224,93</TD></TR>\r\n",
      "<TR><TD class=TblBok><p  class=bL0 align=left>Карамель, кг</p></TD><TD align=right>290,1</TD></TR>\r\n",
      "<TR><TD class=TblBok><p  class=bL0 align=left>Чай черный байховый, кг</p></TD><TD align=right>1106,15</TD></TR>\r\n",
      "<TR><TD class=TblBok><p  class=bL0 align=left>Соль поваренная пищевая, кг</p></TD><TD align=right>19,3</TD></TR>\r\n",
      "<TR><TD class=TblBok><p  class=bL0 align=left>Перец черный (горошек), кг</p></TD><TD align=right>2456,24</TD></TR>\r\n",
      "<TR><TD class=TblBok><p  class=bL0 align=left>Мука пшеничная, кг</p></TD><TD align=right>39,95</TD></TR>\r\n",
      "<TR><TD class=TblBok><p  class=bL0 align=left>Хлеб из ржаной муки и из смеси муки ржаной и пшеничной, кг</p></TD><TD align=right>53,49</TD></TR>\r\n",
      "<TR><TD class=TblBok><p  class=bL0 align=left>Хлеб и булочные изделия из пшеничной муки 1 и 2 сортов, кг</p></TD><TD align=right>54,12</TD></TR>\r\n",
      "<TR><TD class=TblBok><p  class=bL0 align=left>Рис шлифованный, кг</p></TD><TD align=right>89,3</TD></TR>\r\n",
      "<TR><TD class=TblBok><p  class=bL0 align=left>Пшено, кг</p></TD><TD align=right>45,57</TD></TR>\r\n",
      "<TR><TD class=TblBok><p  class=bL0 align=left>Горох и фасоль, кг</p></TD><TD align=right>91,29</TD></TR>\r\n",
      "<TR><TD class=TblBok><p  class=bL0 align=left>Вермишель, кг</p></TD><TD align=right>100,81</TD></TR>\r\n",
      "<TR><TD class=TblBok><p  class=bL0 align=left>Картофель, кг</p></TD><TD align=right>35,18</TD></TR>\r\n",
      "<TR><TD class=TblBok><p  class=bL0 align=left>Капуста белокочанная свежая, кг</p></TD><TD align=right>34,71</TD></TR>\r\n",
      "<TR><TD class=TblBok><p  class=bL0 align=left>Лук репчатый, кг</p></TD><TD align=right>29,13</TD></TR>\r\n",
      "<TR><TD class=TblBok><p  class=bL0 align=left>Морковь, кг</p></TD><TD align=right>49,56</TD></TR>\r\n",
      "<TR><TD class=TblBok><p  class=bL0 align=left>Огурцы свежие, кг</p></TD><TD align=right>130,11</TD></TR>\r\n",
      "<TR><TD class=TblBok><p  class=bL0 align=left>Яблоки, кг</p></TD><TD align=right>122,48</TD></TR>\r\n",
      "</TABLE>\r\n",
      "<br>\r\n",
      "<!--  Файл:DBInet.cgi  Версия:1.1.1.10  -->\r\n",
      "  </font> \r\n",
      "</div>\r\n",
      "<p align=right style=\"border-top: 1 solid black\"><small><i>Copyright © Федеральная служба государственной статистики</i></small></p>\r\n",
      "</BODY>\r\n",
      "</HTML>\r\n",
      "\n"
     ]
    }
   ],
   "source": [
    "html = (r.text)\n",
    "print(html)"
   ]
  },
  {
   "cell_type": "code",
   "execution_count": 33,
   "metadata": {},
   "outputs": [],
   "source": [
    "with open('html.html', 'wb') as htmlfile:\n",
    "    htmlfile.write(html)"
   ]
  },
  {
   "cell_type": "code",
   "execution_count": null,
   "metadata": {
    "collapsed": true
   },
   "outputs": [],
   "source": []
  }
 ],
 "metadata": {
  "kernelspec": {
   "display_name": "Python 3",
   "language": "python",
   "name": "python3"
  },
  "language_info": {
   "codemirror_mode": {
    "name": "ipython",
    "version": 3
   },
   "file_extension": ".py",
   "mimetype": "text/x-python",
   "name": "python",
   "nbconvert_exporter": "python",
   "pygments_lexer": "ipython3",
   "version": "3.6.3"
  }
 },
 "nbformat": 4,
 "nbformat_minor": 2
}
